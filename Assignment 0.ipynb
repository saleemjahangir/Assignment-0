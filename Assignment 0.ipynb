{
 "cells": [
  {
   "cell_type": "markdown",
   "id": "8defccf9",
   "metadata": {},
   "source": [
    "# ASSIGNMENT ON PYTHON"
   ]
  },
  {
   "cell_type": "markdown",
   "id": "3c9f0b23",
   "metadata": {},
   "source": [
    "# 1. Anagrams checker"
   ]
  },
  {
   "cell_type": "code",
   "execution_count": 2,
   "id": "b91393af",
   "metadata": {},
   "outputs": [
    {
     "name": "stdout",
     "output_type": "stream",
     "text": [
      "the string is anagram\n"
     ]
    }
   ],
   "source": [
    "\n",
    "''' Develop a program that determines whether two input strings are anagrams of each \n",
    "other. Anagrams contain the same characters but in a different order'''\n",
    "\n",
    "#Defined a function with name 'check' it takes two strings,s1 and s2 as  a parameter\n",
    "\n",
    "def check(s1,s2):\n",
    "    \n",
    "    #checks are they contain the same character\n",
    "    if(sorted(s1))==sorted(s2):#checks are they contain the same character\n",
    "    \n",
    "        print(\"the string is anagram\") # if the sorted strings are equal it prints the string is anagram\n",
    "    else:\n",
    "        print(\"the string is not anagram\")#else it will print the string is not anagram\n",
    "\n",
    "        \n",
    "s1=\"listen\"\n",
    "s2=\"netsil\"\n",
    "\n",
    "check(s1,s2)\n",
    "\n"
   ]
  },
  {
   "cell_type": "markdown",
   "id": "dbd6332a",
   "metadata": {},
   "source": [
    "# 2.Armstrong number checker"
   ]
  },
  {
   "cell_type": "code",
   "execution_count": null,
   "id": "8ecf5b52",
   "metadata": {},
   "outputs": [],
   "source": [
    "\n",
    "\n",
    "''''Description: Create a program that checks whether a given number is an Armstrong number or not. \n",
    "Armstrong numbers have the property that the sum of cubes of its digits is equal to the number \n",
    "itself.'''\n",
    "\n",
    "#Defined a function arm it takes the innteger parameter \"val\" and returns a boolean value true or false\n",
    "\n",
    "def arm (val:int)->bool:\n",
    "    ''''here it converts the innterger 'val'into a list of digits\n",
    "    for example if val is 153 parts will be [1,5,3]'''\n",
    "    \n",
    "    parts=[int(_)for _ in str(val)]\n",
    "    \n",
    "    \n",
    "    counter=0#it initializes a counter to zero and itrates each digit in parts \n",
    "    for _ in parts:\n",
    "        counter+=3#and increment the counter by 3 for each digit\n",
    "        #the counrer will become (3+3+3)\n",
    "        #it checks if the calculated counter is equal to the orginal value \n",
    "    return(counter==val)\n",
    "#it calls the  arm function here\n",
    "print(arm(153))"
   ]
  },
  {
   "cell_type": "markdown",
   "id": "bedccd5a",
   "metadata": {},
   "source": [
    "# 3.Binary to decimal conversion"
   ]
  },
  {
   "cell_type": "code",
   "execution_count": 3,
   "id": "7f607407",
   "metadata": {},
   "outputs": [
    {
     "name": "stdout",
     "output_type": "stream",
     "text": [
      " 1010 =10.\n"
     ]
    }
   ],
   "source": [
    "'''Develop a program that converts a binary number to its decimal equivalent.\n",
    "Example: The binary number 1010 is equivalent to the decimal number 1010'''\n",
    "\n",
    "# In this program I defined a function named bi_de that takes a binary string as parammeter\n",
    "def bi_de(binary_str):\n",
    "# Convert the binary string to a decimal number using int() with base 2\n",
    "\n",
    "    decimal_num=int(binary_str,2)#the 2 indicates that the input string is in base 2\n",
    "    return decimal_num\n",
    "binary_number=\"1010\"#A binary string \"1010\" is defined and stored in the variable binary_number.\n",
    "\n",
    "#here I Call the bi_de function with the binary string as an argument\n",
    "# Store the result (decimal equivalent) in the variable decimal_equivalent\n",
    "\n",
    "decimal_equivalent=bi_de(binary_number)#here I call the function as binary_number\n",
    "#First it prints the original binary string, the equal sign, and the decimal equivalent\n",
    "\n",
    "print(f\" {binary_number} ={decimal_equivalent}.\")"
   ]
  },
  {
   "cell_type": "markdown",
   "id": "f04946e5",
   "metadata": {},
   "source": [
    "# 4.Factorial calculator"
   ]
  },
  {
   "cell_type": "code",
   "execution_count": 4,
   "id": "e67c41e2",
   "metadata": {},
   "outputs": [
    {
     "name": "stdout",
     "output_type": "stream",
     "text": [
      "the factorial of 5 is :120\n"
     ]
    }
   ],
   "source": [
    "'''Write a program to calculate the factorial of a given number.\n",
    "Example: Factorial of 5 (denoted as 5!) is 5 * 4 * 3 * 2 * 1 = 120.\n",
    "'''\n",
    "\n",
    "#Defined a function fact and it takes the num as a parameter\n",
    "def fact(num):\n",
    "   # it initialize the variable result to 1\n",
    "    result=1\n",
    "   # after entering into the while loop it continous untill the num >=1\n",
    "    while num>=1:\n",
    "        result=result*num#it updates the result inside the loop it multiply curent value current value of num\n",
    "        \n",
    "        num=num-1#the value of num will get decremented by 1 in each iteration\n",
    "        \n",
    "    return result#exit the loop\n",
    "\n",
    "number=5#initialize the number with value 1\n",
    "\n",
    "result=fact(number)#call the function\n",
    "print(f\"the factorial of {number} is :{result}\")\n",
    "        "
   ]
  },
  {
   "cell_type": "markdown",
   "id": "64fe3277",
   "metadata": {},
   "source": [
    "# 5.Fibonacci Series:"
   ]
  },
  {
   "cell_type": "code",
   "execution_count": 5,
   "id": "34ba4bce",
   "metadata": {},
   "outputs": [
    {
     "name": "stdout",
     "output_type": "stream",
     "text": [
      "[0, 1, 1, 2, 3, 5, 8, 13, 21, 34]\n"
     ]
    }
   ],
   "source": [
    "'''Write a function to generate the Fibonacci sequence. The sequence starts with 0 and 1, \n",
    "and each subsequent number is the sum of the two preceding ones.'''\n",
    "#Here I defined a function with name func1 and pass n as a parameter\n",
    "def func1 (n):\n",
    "    # Initialize a list with the first two Fibonacci numbers\n",
    "    fib=[0,1]\n",
    "        # Continue adding Fibonacci numbers to the list until its length reaches n\n",
    "#use while loop to iterate the given \n",
    "    while len(fib)<n:\n",
    "        fib.append(fib[-1]+fib[-2])#1.fib[-1] gets the last number in the list fib.\n",
    "    #2.fib[-2] gets the second-to-last number in the list fib.\n",
    "    #3.fib[-1] + fib[-2] calculates the sum of the last two numbers in the Fibonacci sequence.\n",
    "    #4.fib.append(...) adds this sum as the next number in the Fibonacci sequence to the end of the list fib.\n",
    "        \n",
    "        \n",
    "        # Call the function with n=10 and store the result in the variable 'result'\n",
    "    # Return the first n Fibonacci numbers\n",
    "\n",
    "    return fib[:n]\n",
    "        # Call the function with n=10 and store the result in the variable 'result'\n",
    "result=func1(10)\n",
    "print(result)"
   ]
  },
  {
   "cell_type": "markdown",
   "id": "49fde582",
   "metadata": {},
   "source": [
    "# 6.Palindrome Checker:\n"
   ]
  },
  {
   "cell_type": "code",
   "execution_count": 3,
   "id": "e3668c74",
   "metadata": {},
   "outputs": [
    {
     "name": "stdout",
     "output_type": "stream",
     "text": [
      "Yes,dear it is a palindrom\n"
     ]
    }
   ],
   "source": [
    "#Create a program that checks whether a given string is a palindrome or not.\n",
    "#In this programe, define a function as palindrome it take the parameter s\n",
    "def palindrone(s):\n",
    "    return s==s[::-1]#it checks here if the string is equal to its reverse\n",
    "#Assign a string \"num\" to the variable s\n",
    "s=\"radar\"\n",
    "ans=palindrone(s)#Here I call the palindrome function with the string as an argument\n",
    "if ans:#after cheking the condition print the result\n",
    "    print(\"Yes,dear it is a palindrom\")\n",
    "else:\n",
    "    print(\"No,it is not actually\")"
   ]
  },
  {
   "cell_type": "markdown",
   "id": "926d6de3",
   "metadata": {},
   "source": [
    "# 7.Prime Number Checker:"
   ]
  },
  {
   "cell_type": "code",
   "execution_count": 2,
   "id": "6f46887e",
   "metadata": {},
   "outputs": [
    {
     "name": "stdout",
     "output_type": "stream",
     "text": [
      "6 is not a prime number\n"
     ]
    }
   ],
   "source": [
    "#Prime Number Checker:\n",
    "''' Design a function that checks whether a given number is a prime number.\n",
    "in this program wee use function to desion this program to check weather the number is prime or not'''\n",
    "\n",
    "def is_prime_number(num):\n",
    "    # Prime numbers are greater than 1\n",
    "    if num > 1:\n",
    "        # Check for factors\n",
    "       # If num is greater than 1, the function uses a for loop to iterate through the range from \n",
    "    #2 to the square root of num (inclusive). This is because any factor of a number \n",
    "    #must be less than or equal to its square root.\n",
    "       \n",
    "        for i in range(2, int(num**0.5) + 1):\n",
    "            #Prime numbers are defined as natural numbers greater than 1. So, the function checks \n",
    "            #if the given number (num) is greater than 1.\n",
    "            if num % i == 0:\n",
    "                \n",
    "                print(num, \"is not a prime number\")\n",
    "                break\n",
    "        else:\n",
    "            print(num, \"is a prime number\")\n",
    "   \n",
    "\n",
    "# Test the function with the number 6\n",
    "is_prime_number(6)\n"
   ]
  },
  {
   "cell_type": "markdown",
   "id": "d4acee1b",
   "metadata": {},
   "source": [
    "# 8.Pattern Printing:"
   ]
  },
  {
   "cell_type": "code",
   "execution_count": 6,
   "id": "c770a8cb",
   "metadata": {},
   "outputs": [
    {
     "name": "stdout",
     "output_type": "stream",
     "text": [
      "*\n",
      "**\n",
      "***\n",
      "****\n",
      "*****\n",
      "******\n",
      "*******\n",
      "********\n",
      "*********\n"
     ]
    }
   ],
   "source": [
    "#Description: Create a program to print various patterns like triangles, squares, diamonds, using\n",
    "#loops and characters.\n",
    "\n",
    "\n",
    "rows=5#here I assigned the value 5 to the variable rows\n",
    "\n",
    "for i in range(1,rows+5):#it is the outer loop iterates from 1 to rows + 1.  i represents\n",
    "  #  the current row number.\n",
    "#it is the inner loop that iterates from 1 to the current value of i. The loop variable j \n",
    "#represents the position within the current row.\n",
    "    for j in range(1,i+1):\n",
    "        \n",
    "        print(\"*\",end='')#This line prints an asterisk (*) without moving to the next line.\n",
    "       # The end='' argument is used to prevent the print function from adding a newline character after each asterisk.\n",
    "\n",
    "\n",
    "    print()"
   ]
  },
  {
   "cell_type": "markdown",
   "id": "15fd47fb",
   "metadata": {},
   "source": [
    "# 9.String Reversal without builtin function:"
   ]
  },
  {
   "cell_type": "code",
   "execution_count": 8,
   "id": "e05d287e",
   "metadata": {},
   "outputs": [
    {
     "name": "stdout",
     "output_type": "stream",
     "text": [
      "rignahaj\n"
     ]
    }
   ],
   "source": [
    "\n",
    "\n",
    "#Reversing the string \"hello\" would result in \"olleh\".\n",
    "#define the funtion as reverse_string and takes the input_str as a parameter\n",
    "def reverse_string(input_str):\n",
    "    # Initialize an empty string to store the reversed string\n",
    "    reversed_str=\"\"\n",
    "    # Iterate through each character in the input string in reverse order\n",
    "    for i in input_str:\n",
    "       # Concatenate the current character with the existing reversed string\n",
    " \n",
    "        reversed_str=i+reversed_str\n",
    "     # Return the final reversed string\n",
    "\n",
    "    return reversed_str\n",
    "\n",
    "\n",
    "# Define an input string\n",
    "input_string=\"jahangir\"\n",
    "# Call the reverse_string function with the input string and store the result\n",
    "\n",
    "result=reverse_string(input_string)\n",
    "# Print the reversed string\n",
    "\n",
    "print(result)"
   ]
  },
  {
   "cell_type": "markdown",
   "id": "d53b4ed6",
   "metadata": {},
   "source": [
    "# 10.Sum of Digits:"
   ]
  },
  {
   "cell_type": "code",
   "execution_count": 3,
   "id": "1cfbb873",
   "metadata": {},
   "outputs": [
    {
     "name": "stdout",
     "output_type": "stream",
     "text": [
      "sum of given numbers is : 6\n"
     ]
    }
   ],
   "source": [
    "# In this programe we are calculationg the sum of numbers \n",
    "\n",
    "def sum_digits (n):#difine the function and it takes the n as a parameter \n",
    "    \n",
    "    if n==0:#if n is 0, return 0\n",
    "        return 0\n",
    "        # Recursive case: return the last digit of n plus the sum of digits of the remaining part of n\n",
    "\n",
    "    return n%10+sum_digits(int(n/10))#\n",
    "# Assign the number 123 to the variable num\n",
    "\n",
    "num=123\n",
    "# Call the sum_digits function with the parameter num and store the result in the variable result\n",
    "\n",
    "result=sum_digits(num)\n",
    "print(\"sum of given numbers\",\"is :\",result)"
   ]
  },
  {
   "cell_type": "code",
   "execution_count": null,
   "id": "fed1e470",
   "metadata": {},
   "outputs": [],
   "source": []
  }
 ],
 "metadata": {
  "kernelspec": {
   "display_name": "Python 3 (ipykernel)",
   "language": "python",
   "name": "python3"
  },
  "language_info": {
   "codemirror_mode": {
    "name": "ipython",
    "version": 3
   },
   "file_extension": ".py",
   "mimetype": "text/x-python",
   "name": "python",
   "nbconvert_exporter": "python",
   "pygments_lexer": "ipython3",
   "version": "3.11.5"
  }
 },
 "nbformat": 4,
 "nbformat_minor": 5
}
